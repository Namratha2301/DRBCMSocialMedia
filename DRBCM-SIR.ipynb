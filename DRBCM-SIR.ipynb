{
 "cells": [
  {
   "cell_type": "markdown",
   "id": "030c0d6a",
   "metadata": {},
   "source": [
    "# Pre-Requisites"
   ]
  },
  {
   "cell_type": "code",
   "execution_count": 1,
   "id": "b2e7f254",
   "metadata": {},
   "outputs": [
    {
     "data": {
      "text/plain": [
       "'23Oct2022 21:12'"
      ]
     },
     "execution_count": 1,
     "metadata": {},
     "output_type": "execute_result"
    }
   ],
   "source": [
    "from datetime import datetime\n",
    "time_format = \"%d%b%Y %H:%M\"\n",
    "datetime.now().strftime(time_format)"
   ]
  },
  {
   "cell_type": "markdown",
   "id": "56497bcd",
   "metadata": {},
   "source": [
    "## Importing the Covsirphy Package\n",
    "\n",
    "We will be needing the Covsirphy package for this notebook. To install the covsirphy package use the command:\n",
    "\n",
    "`pip install covsirphy==2.22.2`\n",
    "\n",
    "We will also be needing the `openpyxl` package which can be installed using the following command:\n",
    "\n",
    "`pip install openpyxl`"
   ]
  },
  {
   "cell_type": "code",
   "execution_count": 2,
   "id": "e7fa66ff",
   "metadata": {},
   "outputs": [
    {
     "name": "stderr",
     "output_type": "stream",
     "text": [
      "D:\\DRBCMSocialMedia\\env\\lib\\site-packages\\tqdm\\auto.py:22: TqdmWarning: IProgress not found. Please update jupyter and ipywidgets. See https://ipywidgets.readthedocs.io/en/stable/user_install.html\n",
      "  from .autonotebook import tqdm as notebook_tqdm\n"
     ]
    },
    {
     "data": {
      "text/plain": [
       "'2.22.2'"
      ]
     },
     "execution_count": 2,
     "metadata": {},
     "output_type": "execute_result"
    }
   ],
   "source": [
    "import covsirphy as cs\n",
    "cs.__version__"
   ]
  },
  {
   "cell_type": "markdown",
   "id": "75d36380",
   "metadata": {},
   "source": [
    "## Importing Other Essential Modules"
   ]
  },
  {
   "cell_type": "code",
   "execution_count": 1,
   "id": "fc59e4d2",
   "metadata": {},
   "outputs": [
    {
     "name": "stderr",
     "output_type": "stream",
     "text": [
      "D:\\DRBCMSocialMedia\\env\\lib\\site-packages\\tqdm\\auto.py:22: TqdmWarning: IProgress not found. Please update jupyter and ipywidgets. See https://ipywidgets.readthedocs.io/en/stable/user_install.html\n",
      "  from .autonotebook import tqdm as notebook_tqdm\n"
     ]
    }
   ],
   "source": [
    "from collections import defaultdict\n",
    "from datetime import timedelta\n",
    "from dateutil.relativedelta import relativedelta\n",
    "import functools\n",
    "from IPython.display import display, Markdown\n",
    "import math\n",
    "import os\n",
    "from pprint import pprint\n",
    "import matplotlib.pyplot as plt\n",
    "import matplotlib.cm as cm\n",
    "import matplotlib\n",
    "from matplotlib.ticker import ScalarFormatter\n",
    "%matplotlib inline\n",
    "import numpy as np\n",
    "import pandas as pd\n",
    "import dask.dataframe as dd\n",
    "pd.plotting.register_matplotlib_converters()\n",
    "import seaborn as sns\n",
    "import scipy as sci\n",
    "from sklearn.feature_extraction.text import TfidfVectorizer\n",
    "from sklearn.cluster import KMeans\n",
    "import sympy as sym\n",
    "from torch.utils.data import Dataset, DataLoader\n",
    "import numpy as np\n",
    "import pandas as pd\n",
    "import torch\n",
    "import torchvision"
   ]
  },
  {
   "cell_type": "markdown",
   "id": "55471383",
   "metadata": {},
   "source": [
    "# Plot Configuration"
   ]
  },
  {
   "cell_type": "code",
   "execution_count": 4,
   "id": "f873d33c",
   "metadata": {},
   "outputs": [
    {
     "name": "stderr",
     "output_type": "stream",
     "text": [
      "C:\\Users\\HP\\AppData\\Local\\Temp\\ipykernel_20756\\380578449.py:5: MatplotlibDeprecationWarning: The seaborn styles shipped by Matplotlib are deprecated since 3.6, as they no longer correspond to the styles shipped by seaborn. However, they will remain available as 'seaborn-v0_8-<style>'. Alternatively, directly use the seaborn API instead.\n",
      "  plt.style.use(\"seaborn-ticks\")\n"
     ]
    }
   ],
   "source": [
    "# Ramdam\n",
    "np.random.seed(123)\n",
    "os.environ[\"PYTHONHASHSEED\"] = \"123\"\n",
    "# Matplotlib\n",
    "plt.style.use(\"seaborn-ticks\")\n",
    "plt.rcParams[\"xtick.direction\"] = \"in\"\n",
    "plt.rcParams[\"ytick.direction\"] = \"in\"\n",
    "plt.rcParams[\"font.size\"] = 11.0\n",
    "plt.rcParams[\"figure.figsize\"] = (9, 6)\n",
    "# Pandas\n",
    "pd.set_option(\"display.max_colwidth\", 1000)"
   ]
  },
  {
   "cell_type": "markdown",
   "id": "93df7e58",
   "metadata": {},
   "source": [
    "## Loading Data"
   ]
  },
  {
   "cell_type": "code",
   "execution_count": null,
   "id": "eb919954",
   "metadata": {},
   "outputs": [
    {
     "name": "stdout",
     "output_type": "stream",
     "text": [
      "Retrieving COVID-19 dataset in Japan from https://github.com/lisphilar/covid19-sir/data/japan\n",
      "Retrieving datasets from COVID-19 Data Hub https://covid19datahub.io/\n",
      "\tPlease set verbose=2 to see the detailed citation list.\n"
     ]
    }
   ],
   "source": [
    "# Create instance of covsirphy.DataLoader class\n",
    "data_loader = cs.DataLoader(directory=\"kaggle/input\")\n",
    "# Retrieve the dataset of the number of COVID-19 cases\n",
    "# Kaggle platform: covid19dh.csv will be saved in /output/kaggle/working/input\n",
    "# Local env: covid19dh.csv will be saved in kaggle/input\n",
    "jhu_data = data_loader.jhu()"
   ]
  },
  {
   "cell_type": "markdown",
   "id": "a89c9320",
   "metadata": {},
   "source": [
    "# Exploring the Data"
   ]
  },
  {
   "cell_type": "code",
   "execution_count": null,
   "id": "9fdfa3e0",
   "metadata": {},
   "outputs": [],
   "source": [
    "jhu_data.cleaned().tail()"
   ]
  },
  {
   "cell_type": "code",
   "execution_count": null,
   "id": "c87f316f",
   "metadata": {},
   "outputs": [],
   "source": [
    "jhu_data.subset(\"Japan\", province=None).tail()"
   ]
  },
  {
   "cell_type": "code",
   "execution_count": null,
   "id": "63cebbc5",
   "metadata": {},
   "outputs": [],
   "source": [
    "df = jhu_data.cleaned()\n",
    "jhu_first_date, jhu_last_date = df[\"Date\"].min(), df[\"Date\"].max()\n",
    "jhu_elapsed = (jhu_last_date - jhu_first_date).days\n",
    "print(f\"{jhu_elapsed} days have passed from the date of the first record.\")"
   ]
  },
  {
   "cell_type": "markdown",
   "id": "346453ec",
   "metadata": {},
   "source": [
    "# Understanding Amount of Time Spent Out"
   ]
  },
  {
   "cell_type": "code",
   "execution_count": null,
   "id": "d8eae401",
   "metadata": {},
   "outputs": [],
   "source": [
    "pyramid_data = data_loader.pyramid()"
   ]
  },
  {
   "cell_type": "code",
   "execution_count": null,
   "id": "d5fda516",
   "metadata": {},
   "outputs": [],
   "source": [
    "_period_of_life_list = [\n",
    "    \"nursery\", \"nursery school\", \"elementary school\", \"middle school\",\n",
    "    \"high school\", \"university/work\", \"work\", \"work\", \"work\", \"work\",\n",
    "    \"retired\", \"retired\", \"retired\"\n",
    "]\n",
    "df = pd.DataFrame(\n",
    "    {\n",
    "        \"Age_first\": [0, 3, 6, 11, 14, 19, 26, 36, 46, 56, 66, 76, 86],\n",
    "        \"Age_last\": [2, 5, 10, 13, 18, 25, 35, 45, 55, 65, 75, 85, 95],\n",
    "        \"Period_of_life\": _period_of_life_list,\n",
    "        \"Days\": [3, 5, 6, 6, 7, 7, 6, 5, 5, 5, 4, 3, 2]\n",
    "    }\n",
    ")\n",
    "# Adjustment by author\n",
    "df[\"Types\"] = df[\"Period_of_life\"].replace(\n",
    "    {\n",
    "        \"nursery\": \"school\",\n",
    "        \"nursery school\": \"school\",\n",
    "        \"elementary school\": \"school\",\n",
    "        \"middle school\": \"school\",\n",
    "        \"high school\": \"school\",\n",
    "        \"university/work\": \"school/work\"\n",
    "    }\n",
    ")\n",
    "df[\"School\"] = df[[\"Types\", \"Days\"]].apply(lambda x: x[1] if \"school\" in x[0] else 0, axis=1)\n",
    "df[\"Office\"] = df[[\"Types\", \"Days\"]].apply(lambda x: x[1] if \"work\" in x[0] else 0, axis=1)\n",
    "df[\"Others\"] = df[\"Days\"] - df[[\"School\", \"Office\"]].sum(axis=1)\n",
    "df.loc[df[\"Others\"] < 0, \"Others\"] = 0\n",
    "df.loc[df.index[1:5], \"School\"] -= 1\n",
    "df.loc[df.index[1:5], \"Others\"] += 1\n",
    "df.loc[df.index[5], [\"School\", \"Office\", \"Others\"]] = [3, 3, 1]\n",
    "df[[\"School\", \"Office\", \"Others\"]] = df[[\"Days\", \"School\", \"Office\", \"Others\"]].apply(\n",
    "    lambda x: x[1:] / sum(x[1:]) * x[0], axis=1\n",
    ").astype(np.int64)\n",
    "df.loc[df.index[6:10], \"Others\"] += 1\n",
    "df = df.drop([\"Days\", \"Types\"], axis=1)\n",
    "# Show dataset\n",
    "_out_df = df.copy()\n",
    "_out_df"
   ]
  },
  {
   "cell_type": "markdown",
   "id": "97e47060",
   "metadata": {},
   "source": [
    "# Time Spent Outside Statistics of a Country"
   ]
  },
  {
   "cell_type": "code",
   "execution_count": null,
   "id": "416eb11b",
   "metadata": {},
   "outputs": [],
   "source": [
    "def go_out(country, pyramid_data=pyramid_data):\n",
    "    \"\"\"\n",
    "    Return the estimated number of days people usually go out.\n",
    "    Args:\n",
    "        country (str): coutry name\n",
    "        pyramid_data (covsirphy.PopulationPyramidData): pyramid dataset\n",
    "    \n",
    "    Returns:\n",
    "        pandas.DataFrame\n",
    "    \"\"\"\n",
    "    p_df = pyramid_data.subset(country)\n",
    "    p_df[\"Cumsum\"] = p_df[\"Population\"].cumsum()\n",
    "    df = pd.merge(_out_df, p_df, left_on=\"Age_last\", right_on=\"Age\", how=\"left\")\n",
    "    df[\"Population\"] = df[\"Cumsum\"].diff()\n",
    "    df.loc[df.index[0], \"Population\"] = df.loc[df.index[0], \"Cumsum\"]\n",
    "    df[\"Population\"] = df[\"Population\"].astype(np.int64)\n",
    "    df[\"Portion\"] = df[\"Population\"] / df[\"Population\"].sum()\n",
    "    return df.drop([\"Per_total\", \"Cumsum\"], axis=1)\n",
    "\n",
    "go_out(\"Italy\")"
   ]
  },
  {
   "cell_type": "code",
   "execution_count": null,
   "id": "a8d35786",
   "metadata": {},
   "outputs": [],
   "source": [
    "go_out(\"Japan\")"
   ]
  },
  {
   "cell_type": "markdown",
   "id": "0ba369a6",
   "metadata": {},
   "source": [
    "# Understanding the Scenario in Italy"
   ]
  },
  {
   "cell_type": "code",
   "execution_count": null,
   "id": "ceb486bb",
   "metadata": {},
   "outputs": [],
   "source": [
    "data_cols = [\"Infected\", \"Fatal\", \"Recovered\"]\n",
    "rate_cols = [\"Fatal per Confirmed\", \"Recovered per Confirmed\", \"Fatal per (Fatal or Recovered)\"]"
   ]
  },
  {
   "cell_type": "code",
   "execution_count": null,
   "id": "dd1f6aac",
   "metadata": {},
   "outputs": [],
   "source": [
    "total_df = jhu_data.total()\n",
    "total_df = total_df.loc[total_df.index <= jhu_last_date, :]\n",
    "total_df.tail()"
   ]
  },
  {
   "cell_type": "markdown",
   "id": "539862a8",
   "metadata": {},
   "source": [
    "# Cases Over Time"
   ]
  },
  {
   "cell_type": "code",
   "execution_count": null,
   "id": "d1cc8776",
   "metadata": {},
   "outputs": [],
   "source": [
    "cs.line_plot(total_df[data_cols], \"Total number of cases over time\")"
   ]
  },
  {
   "cell_type": "markdown",
   "id": "5ba1fda7",
   "metadata": {},
   "source": [
    "# Global Rate Over Time"
   ]
  },
  {
   "cell_type": "code",
   "execution_count": null,
   "id": "7946342b",
   "metadata": {},
   "outputs": [],
   "source": [
    "cs.line_plot(total_df[rate_cols], \"Global rate over time\", ylabel=\"\", math_scale=False)"
   ]
  },
  {
   "cell_type": "markdown",
   "id": "83ac23ad",
   "metadata": {},
   "source": [
    "# KDE Plot"
   ]
  },
  {
   "cell_type": "code",
   "execution_count": null,
   "id": "1ed1d519",
   "metadata": {},
   "outputs": [],
   "source": [
    "total_df[rate_cols].plot.kde()\n",
    "plt.title(\"Kernel density estimation of the rates\")\n",
    "plt.show()"
   ]
  },
  {
   "cell_type": "markdown",
   "id": "0ca82efc",
   "metadata": {},
   "source": [
    "# Generating Statistics Using Sample SIR-F Model"
   ]
  },
  {
   "cell_type": "code",
   "execution_count": null,
   "id": "9622372b",
   "metadata": {},
   "outputs": [],
   "source": [
    "print(cs.SIRD.NAME)\n",
    "# Example parameter values\n",
    "pprint(cs.SIRD.EXAMPLE, compact=True)"
   ]
  },
  {
   "cell_type": "code",
   "execution_count": null,
   "id": "1a021662",
   "metadata": {},
   "outputs": [],
   "source": [
    "print(cs.SIRF.NAME)\n",
    "# Example parameter values\n",
    "pprint(cs.SIRF.EXAMPLE, compact=True)"
   ]
  },
  {
   "cell_type": "code",
   "execution_count": null,
   "id": "f2238272",
   "metadata": {},
   "outputs": [],
   "source": [
    "# Set tau value and start date of records\n",
    "# For explanation, the start date will be 01Jan2020\n",
    "# This is not based on actual data\n",
    "example_data = cs.ExampleData(tau=1440, start_date=\"01Jan2020\")\n",
    "# No records has been registered\n",
    "example_data.cleaned()"
   ]
  },
  {
   "cell_type": "code",
   "execution_count": null,
   "id": "7ba3d323",
   "metadata": {},
   "outputs": [],
   "source": [
    "model = cs.SIRF\n",
    "area = {\"country\": \"Full\", \"province\": model.NAME}\n",
    "# Add records with SIR model\n",
    "example_data.add(model, **area)\n",
    "# Records with model variables\n",
    "df = example_data.specialized(model, **area)\n",
    "cs.line_plot(\n",
    "    df.set_index(\"Date\"),\n",
    "    title=f\"Example data of {model.NAME} model\",\n",
    "    y_integer=True\n",
    ")"
   ]
  },
  {
   "cell_type": "code",
   "execution_count": null,
   "id": "2132607d",
   "metadata": {},
   "outputs": [],
   "source": [
    "eg_r0 = model(model.EXAMPLE[\"population\"], **model.EXAMPLE[\"param_dict\"]).calc_r0()\n",
    "df = example_data.specialized(model, **area)\n",
    "x_max = df.loc[df[\"Infected\"].idxmax(), \"Susceptible\"] / cs.SIR.EXAMPLE[\"population\"]\n",
    "(x_max, 1/eg_r0)"
   ]
  }
 ],
 "metadata": {
  "kernelspec": {
   "display_name": "Python 3 (ipykernel)",
   "language": "python",
   "name": "python3"
  },
  "language_info": {
   "codemirror_mode": {
    "name": "ipython",
    "version": 3
   },
   "file_extension": ".py",
   "mimetype": "text/x-python",
   "name": "python",
   "nbconvert_exporter": "python",
   "pygments_lexer": "ipython3",
   "version": "3.9.8"
  }
 },
 "nbformat": 4,
 "nbformat_minor": 5
}
