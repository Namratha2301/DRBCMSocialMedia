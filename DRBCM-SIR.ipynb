{
 "cells": [
  {
   "cell_type": "markdown",
   "id": "030c0d6a",
   "metadata": {},
   "source": [
    "# Pre-Requisites"
   ]
  },
  {
   "cell_type": "code",
   "execution_count": 1,
   "id": "b2e7f254",
   "metadata": {},
   "outputs": [
    {
     "data": {
      "text/plain": [
       "'23Oct2022 21:12'"
      ]
     },
     "execution_count": 1,
     "metadata": {},
     "output_type": "execute_result"
    }
   ],
   "source": [
    "from datetime import datetime\n",
    "time_format = \"%d%b%Y %H:%M\"\n",
    "datetime.now().strftime(time_format)"
   ]
  },
  {
   "cell_type": "markdown",
   "id": "56497bcd",
   "metadata": {},
   "source": [
    "## Importing the Covsirphy Package\n",
    "\n",
    "We will be needing the Covsirphy package for this notebook. To install the covsirphy package use the command:\n",
    "\n",
    "`pip install covsirphy==2.22.2`\n",
    "\n",
    "We will also be needing the `openpyxl` package which can be installed using the following command:\n",
    "\n",
    "`pip install openpyxl`"
   ]
  },
  {
   "cell_type": "code",
   "execution_count": 2,
   "id": "e7fa66ff",
   "metadata": {},
   "outputs": [
    {
     "name": "stderr",
     "output_type": "stream",
     "text": [
      "D:\\DRBCMSocialMedia\\env\\lib\\site-packages\\tqdm\\auto.py:22: TqdmWarning: IProgress not found. Please update jupyter and ipywidgets. See https://ipywidgets.readthedocs.io/en/stable/user_install.html\n",
      "  from .autonotebook import tqdm as notebook_tqdm\n"
     ]
    },
    {
     "data": {
      "text/plain": [
       "'2.22.2'"
      ]
     },
     "execution_count": 2,
     "metadata": {},
     "output_type": "execute_result"
    }
   ],
   "source": [
    "import covsirphy as cs\n",
    "cs.__version__"
   ]
  },
  {
   "cell_type": "markdown",
   "id": "75d36380",
   "metadata": {},
   "source": [
    "## Importing Other Essential Modules"
   ]
  },
  {
   "cell_type": "code",
   "execution_count": 1,
   "id": "fc59e4d2",
   "metadata": {},
   "outputs": [
    {
     "name": "stderr",
     "output_type": "stream",
     "text": [
      "D:\\DRBCMSocialMedia\\env\\lib\\site-packages\\tqdm\\auto.py:22: TqdmWarning: IProgress not found. Please update jupyter and ipywidgets. See https://ipywidgets.readthedocs.io/en/stable/user_install.html\n",
      "  from .autonotebook import tqdm as notebook_tqdm\n"
     ]
    }
   ],
   "source": [
    "from collections import defaultdict\n",
    "from datetime import timedelta\n",
    "from dateutil.relativedelta import relativedelta\n",
    "import functools\n",
    "from IPython.display import display, Markdown\n",
    "import math\n",
    "import os\n",
    "from pprint import pprint\n",
    "import matplotlib.pyplot as plt\n",
    "import matplotlib.cm as cm\n",
    "import matplotlib\n",
    "from matplotlib.ticker import ScalarFormatter\n",
    "%matplotlib inline\n",
    "import numpy as np\n",
    "import pandas as pd\n",
    "import dask.dataframe as dd\n",
    "pd.plotting.register_matplotlib_converters()\n",
    "import seaborn as sns\n",
    "import scipy as sci\n",
    "from sklearn.feature_extraction.text import TfidfVectorizer\n",
    "from sklearn.cluster import KMeans\n",
    "import sympy as sym\n",
    "from torch.utils.data import Dataset, DataLoader\n",
    "import numpy as np\n",
    "import pandas as pd"
   ]
  },
  {
   "cell_type": "markdown",
   "id": "55471383",
   "metadata": {},
   "source": [
    "## Setting Up Plotting Configs"
   ]
  },
  {
   "cell_type": "code",
   "execution_count": 4,
   "id": "f873d33c",
   "metadata": {},
   "outputs": [
    {
     "name": "stderr",
     "output_type": "stream",
     "text": [
      "C:\\Users\\HP\\AppData\\Local\\Temp\\ipykernel_20756\\380578449.py:5: MatplotlibDeprecationWarning: The seaborn styles shipped by Matplotlib are deprecated since 3.6, as they no longer correspond to the styles shipped by seaborn. However, they will remain available as 'seaborn-v0_8-<style>'. Alternatively, directly use the seaborn API instead.\n",
      "  plt.style.use(\"seaborn-ticks\")\n"
     ]
    }
   ],
   "source": [
    "# Ramdam\n",
    "np.random.seed(123)\n",
    "os.environ[\"PYTHONHASHSEED\"] = \"123\"\n",
    "# Matplotlib\n",
    "plt.style.use(\"seaborn-ticks\")\n",
    "plt.rcParams[\"xtick.direction\"] = \"in\"\n",
    "plt.rcParams[\"ytick.direction\"] = \"in\"\n",
    "plt.rcParams[\"font.size\"] = 11.0\n",
    "plt.rcParams[\"figure.figsize\"] = (9, 6)\n",
    "# Pandas\n",
    "pd.set_option(\"display.max_colwidth\", 1000)"
   ]
  },
  {
   "cell_type": "markdown",
   "id": "93df7e58",
   "metadata": {},
   "source": [
    "## Loading Data"
   ]
  },
  {
   "cell_type": "code",
   "execution_count": null,
   "id": "eb919954",
   "metadata": {},
   "outputs": [
    {
     "name": "stdout",
     "output_type": "stream",
     "text": [
      "Retrieving COVID-19 dataset in Japan from https://github.com/lisphilar/covid19-sir/data/japan\n",
      "Retrieving datasets from COVID-19 Data Hub https://covid19datahub.io/\n",
      "\tPlease set verbose=2 to see the detailed citation list.\n"
     ]
    }
   ],
   "source": [
    "# Create instance of covsirphy.DataLoader class\n",
    "data_loader = cs.DataLoader(directory=\"kaggle/input\")\n",
    "# Retrieve the dataset of the number of COVID-19 cases\n",
    "# Kaggle platform: covid19dh.csv will be saved in /output/kaggle/working/input\n",
    "# Local env: covid19dh.csv will be saved in kaggle/input\n",
    "jhu_data = data_loader.jhu()"
   ]
  },
  {
   "cell_type": "code",
   "execution_count": null,
   "id": "9fdfa3e0",
   "metadata": {},
   "outputs": [],
   "source": []
  }
 ],
 "metadata": {
  "kernelspec": {
   "display_name": "Python 3 (ipykernel)",
   "language": "python",
   "name": "python3"
  },
  "language_info": {
   "codemirror_mode": {
    "name": "ipython",
    "version": 3
   },
   "file_extension": ".py",
   "mimetype": "text/x-python",
   "name": "python",
   "nbconvert_exporter": "python",
   "pygments_lexer": "ipython3",
   "version": "3.9.8"
  }
 },
 "nbformat": 4,
 "nbformat_minor": 5
}
